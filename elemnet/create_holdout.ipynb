{
 "cells": [
  {
   "cell_type": "code",
   "execution_count": 1,
   "metadata": {},
   "outputs": [
    {
     "name": "stderr",
     "output_type": "stream",
     "text": [
      "/usr/local/lib/python2.7/dist-packages/pymatgen/__init__.py:87: UserWarning: \n",
      "Pymatgen will drop Py2k support from v2019.1.1. Pls consult the documentation\n",
      "at https://www.pymatgen.org for more details.\n",
      "  at https://www.pymatgen.org for more details.\"\"\")\n",
      "/usr/local/lib/python2.7/dist-packages/sklearn/cross_validation.py:41: DeprecationWarning: This module was deprecated in version 0.18 in favor of the model_selection module into which all the refactored classes and functions are moved. Also note that the interface of the new CV iterators are different from that of this module. This module will be removed in 0.20.\n",
      "  \"This module will be removed in 0.20.\", DeprecationWarning)\n"
     ]
    }
   ],
   "source": [
    "import re, numpy as np, os, sys, pandas, json\n",
    "from pymatgen import Composition\n",
    "from sklearn.cross_validation import train_test_split\n",
    "from sklearn.model_selection import KFold\n",
    "from sklearn.utils import shuffle"
   ]
  },
  {
   "cell_type": "code",
   "execution_count": 7,
   "metadata": {},
   "outputs": [],
   "source": [
    "exp_data = pandas.read_csv('../data/experimental.csv')"
   ]
  },
  {
   "cell_type": "code",
   "execution_count": 8,
   "metadata": {},
   "outputs": [
    {
     "data": {
      "text/plain": [
       "(1643, 88)"
      ]
     },
     "execution_count": 8,
     "metadata": {},
     "output_type": "execute_result"
    }
   ],
   "source": [
    "exp_data.shape"
   ]
  },
  {
   "cell_type": "code",
   "execution_count": 9,
   "metadata": {},
   "outputs": [],
   "source": [
    "import random\n",
    "inds = list(exp_data.index)\n",
    "random.shuffle(inds)"
   ]
  },
  {
   "cell_type": "code",
   "execution_count": 10,
   "metadata": {},
   "outputs": [
    {
     "name": "stdout",
     "output_type": "stream",
     "text": [
      "(164, 89) (328, 89) (1479, 89) (1315, 89)\n"
     ]
    }
   ],
   "source": [
    "dest_folder = os.path.join('../data', 'holdout-new')\n",
    "#exp_data.to_csv(dest_folder+'/experimental.csv', index=False)\n",
    "total = exp_data.shape[0]\n",
    "test1_size, test2_size = int(0.1*total), int(0.2*total)\n",
    "test_data10 = exp_data.iloc[inds[:test1_size]].reset_index()\n",
    "test_data20 = exp_data.iloc[inds[:test2_size]].reset_index()\n",
    "training_data10 = exp_data.iloc[inds[test1_size:]].reset_index()\n",
    "training_data20 = exp_data.iloc[inds[test2_size:]].reset_index()\n",
    "td_s = 'experimental'\n",
    "print test_data10.shape, test_data20.shape, training_data10.shape, training_data20.shape"
   ]
  },
  {
   "cell_type": "markdown",
   "metadata": {},
   "source": [
    "### Creating hold out splits"
   ]
  },
  {
   "cell_type": "code",
   "execution_count": 11,
   "metadata": {},
   "outputs": [
    {
     "name": "stdout",
     "output_type": "stream",
     "text": [
      "164 328 164 328 164\n"
     ]
    }
   ],
   "source": [
    "test10_comps, test20_comps = test_data10['pretty_comp'].values, test_data20['pretty_comp'].values\n",
    "print len(test10_comps), len(test20_comps), len(set(test10_comps)), len(set(test20_comps)), len([x for x in test20_comps if x not in test10_comps])"
   ]
  },
  {
   "cell_type": "code",
   "execution_count": 14,
   "metadata": {},
   "outputs": [
    {
     "name": "stdout",
     "output_type": "stream",
     "text": [
      "((164, 89), (1479, 89))\n",
      "0 (1331, 89) (148, 89)\n",
      "1 (1331, 89) (148, 89)\n",
      "2 (1331, 89) (148, 89)\n",
      "3 (1331, 89) (148, 89)\n",
      "4 (1331, 89) (148, 89)\n",
      "5 (1331, 89) (148, 89)\n",
      "6 (1331, 89) (148, 89)\n",
      "7 (1331, 89) (148, 89)\n",
      "8 (1331, 89) (148, 89)\n",
      "9 (1332, 89) (147, 89)\n"
     ]
    }
   ],
   "source": [
    "kf10 = KFold(n_splits=10, shuffle=True, random_state=1234567)\n",
    "os.system('mkdir -p %s/10'%dest_folder)\n",
    "test_data10.to_csv(dest_folder+'/10/%s_test_set.csv'%td_s, index=False)\n",
    "training_data10.to_csv(dest_folder+'/10/%s_training_set.csv'%td_s, index=False)\n",
    "print(test_data10.shape, training_data10.shape)\n",
    "i=0\n",
    "for train_index, val_index in kf10.split(training_data10):\n",
    "    train_data = training_data10.iloc[train_index,]\n",
    "    val_data = training_data10.iloc[val_index,]\n",
    "    print i, train_data.shape, val_data.shape\n",
    "    train_data.to_csv(dest_folder+'/10/%s_train_set_%d.csv'%(td_s,i), index=False)\n",
    "    val_data.to_csv(dest_folder+'/10/%s_val_set_%d.csv'%(td_s,i), index=False)\n",
    "    i+=1"
   ]
  },
  {
   "cell_type": "code",
   "execution_count": 16,
   "metadata": {},
   "outputs": [
    {
     "name": "stdout",
     "output_type": "stream",
     "text": [
      "((328, 89), (1315, 89))\n",
      "0 (1183, 89) (132, 89)\n",
      "1 (1183, 89) (132, 89)\n",
      "2 (1183, 89) (132, 89)\n",
      "3 (1183, 89) (132, 89)\n",
      "4 (1183, 89) (132, 89)\n",
      "5 (1184, 89) (131, 89)\n",
      "6 (1184, 89) (131, 89)\n",
      "7 (1184, 89) (131, 89)\n",
      "8 (1184, 89) (131, 89)\n",
      "9 (1184, 89) (131, 89)\n"
     ]
    }
   ],
   "source": [
    "kf10 = KFold(n_splits=10, shuffle=True, random_state=1234567)\n",
    "os.system('mkdir -p %s/20'%dest_folder)\n",
    "test_data20.to_csv(dest_folder+'/20/%s_test_set.csv'%td_s, index=False)\n",
    "training_data20.to_csv(dest_folder+'/20/%s_training_set.csv'%td_s, index=False)\n",
    "print(test_data20.shape, training_data20.shape)\n",
    "i=0\n",
    "for train_index, val_index in kf10.split(training_data20):\n",
    "    train_data = training_data20.iloc[train_index,]\n",
    "    val_data = training_data20.iloc[val_index,]\n",
    "    print i, train_data.shape, val_data.shape\n",
    "    train_data.to_csv(dest_folder+'/20/%s_train_set_%d.csv'%(td_s,i), index=False)\n",
    "    val_data.to_csv(dest_folder+'/20/%s_val_set_%d.csv'%(td_s,i), index=False)\n",
    "    i+=1"
   ]
  },
  {
   "cell_type": "code",
   "execution_count": 17,
   "metadata": {},
   "outputs": [],
   "source": [
    "data_folder='../data'"
   ]
  },
  {
   "cell_type": "markdown",
   "metadata": {},
   "source": [
    "### Split for 10-fold cross validation"
   ]
  },
  {
   "cell_type": "code",
   "execution_count": 18,
   "metadata": {},
   "outputs": [
    {
     "name": "stdout",
     "output_type": "stream",
     "text": [
      "0 (1478, 88) (165, 88)\n",
      "(147, 88) (295, 88) (443, 88) (591, 88) (739, 88) (886, 88) (1034, 88) (1182, 88) (1330, 88) (1478, 88) \n",
      "1 (1478, 88) (165, 88)\n",
      "(147, 88) (295, 88) (443, 88) (591, 88) (739, 88) (886, 88) (1034, 88) (1182, 88) (1330, 88) (1478, 88) \n",
      "2 (1478, 88) (165, 88)\n",
      "(147, 88) (295, 88) (443, 88) (591, 88) (739, 88) (886, 88) (1034, 88) (1182, 88) (1330, 88) (1478, 88) \n",
      "3 (1479, 88) (164, 88)\n",
      "(147, 88) (295, 88) (443, 88) (591, 88) (739, 88) (887, 88) (1035, 88) (1183, 88) (1331, 88) (1479, 88) \n",
      "4 (1479, 88) (164, 88)\n",
      "(147, 88) (295, 88) (443, 88) (591, 88) (739, 88) (887, 88) (1035, 88) (1183, 88) (1331, 88) (1479, 88) \n",
      "5 (1479, 88) (164, 88)\n",
      "(147, 88) (295, 88) (443, 88) (591, 88) (739, 88) (887, 88) (1035, 88) (1183, 88) (1331, 88) (1479, 88) \n",
      "6 (1479, 88) (164, 88)\n",
      "(147, 88) (295, 88) (443, 88) (591, 88) (739, 88) (887, 88) (1035, 88) (1183, 88) (1331, 88) (1479, 88) \n",
      "7 (1479, 88) (164, 88)\n",
      "(147, 88) (295, 88) (443, 88) (591, 88) (739, 88) (887, 88) (1035, 88) (1183, 88) (1331, 88) (1479, 88) \n",
      "8 (1479, 88) (164, 88)\n",
      "(147, 88) (295, 88) (443, 88) (591, 88) (739, 88) (887, 88) (1035, 88) (1183, 88) (1331, 88) (1479, 88) \n",
      "9 (1479, 88) (164, 88)\n",
      "(147, 88) (295, 88) (443, 88) (591, 88) (739, 88) (887, 88) (1035, 88) (1183, 88) (1331, 88) (1479, 88) \n"
     ]
    }
   ],
   "source": [
    "kf10 = KFold(n_splits=10, shuffle=True, random_state=1234567)\n",
    "dest_folder = os.path.join(data_folder, 'cv-new')\n",
    "os.system('mkdir -p %s'%dest_folder)\n",
    "#exp_data.to_csv(dest_folder+'/experimental.csv', index=False)\n",
    "i=0\n",
    "for train_index, val_index in kf10.split(exp_data):\n",
    "    train_data = exp_data.iloc[train_index,]\n",
    "    val_data = exp_data.iloc[val_index,]\n",
    "    print i, train_data.shape, val_data.shape\n",
    "    train_data.to_csv(dest_folder+'/%s_train_set_%d.csv'%(td_s,i), index=False)\n",
    "    val_data.to_csv(dest_folder+'/%s_test_set_%d.csv'%(td_s,i), index=False)\n",
    "    for perc in range(10,110,10):\n",
    "        train_d = exp_data.iloc[train_index[:int(perc*.01*len(train_index))],]\n",
    "        print train_d.shape,\n",
    "        train_d.to_csv(dest_folder+'/experimental_train_set_'+str(i)+'_'+str(perc)+'.csv', index=False)\n",
    "    i+=1\n",
    "    print ''"
   ]
  }
 ],
 "metadata": {
  "kernelspec": {
   "display_name": "Python 2",
   "language": "python",
   "name": "python2"
  },
  "language_info": {
   "codemirror_mode": {
    "name": "ipython",
    "version": 2
   },
   "file_extension": ".py",
   "mimetype": "text/x-python",
   "name": "python",
   "nbconvert_exporter": "python",
   "pygments_lexer": "ipython2",
   "version": "2.7.12"
  }
 },
 "nbformat": 4,
 "nbformat_minor": 2
}
